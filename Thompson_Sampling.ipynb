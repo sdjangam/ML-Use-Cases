{
 "cells": [
  {
   "cell_type": "markdown",
   "metadata": {},
   "source": [
    "## **Thompson Sampling**\n",
    "`Thompson sampling` is an algorithm for online decision prob- lems where actions are taken sequentially in a manner that must balance between exploiting what is known to maxi- mize immediate performance and investing to accumulate new information that may improve future performance."
   ]
  },
  {
   "cell_type": "code",
   "execution_count": 14,
   "metadata": {},
   "outputs": [],
   "source": [
    "import random\n",
    "import pandas as pd\n",
    "import matplotlib.pyplot as plt\n",
    "from collections import Counter"
   ]
  },
  {
   "cell_type": "code",
   "execution_count": 2,
   "metadata": {},
   "outputs": [],
   "source": [
    "''' genrating the random data '''\n",
    "data = {}\n",
    "data['B1'] = [random.randint(0,1) for x in range(200)]\n",
    "data['B2'] = [random.randint(0,1) for x in range(200)]\n",
    "data['B3'] = [random.randint(0,1) for x in range(200)]\n",
    "data['B4'] = [random.randint(0,1) for x in range(200)]\n",
    "data['B5'] = [random.randint(0,1) for x in range(200)]\n",
    "data = pd.DataFrame(data)"
   ]
  },
  {
   "cell_type": "code",
   "execution_count": 3,
   "metadata": {},
   "outputs": [
    {
     "data": {
      "text/html": [
       "<div>\n",
       "<style scoped>\n",
       "    .dataframe tbody tr th:only-of-type {\n",
       "        vertical-align: middle;\n",
       "    }\n",
       "\n",
       "    .dataframe tbody tr th {\n",
       "        vertical-align: top;\n",
       "    }\n",
       "\n",
       "    .dataframe thead th {\n",
       "        text-align: right;\n",
       "    }\n",
       "</style>\n",
       "<table border=\"1\" class=\"dataframe\">\n",
       "  <thead>\n",
       "    <tr style=\"text-align: right;\">\n",
       "      <th></th>\n",
       "      <th>B1</th>\n",
       "      <th>B2</th>\n",
       "      <th>B3</th>\n",
       "      <th>B4</th>\n",
       "      <th>B5</th>\n",
       "    </tr>\n",
       "  </thead>\n",
       "  <tbody>\n",
       "    <tr>\n",
       "      <th>0</th>\n",
       "      <td>1</td>\n",
       "      <td>1</td>\n",
       "      <td>1</td>\n",
       "      <td>0</td>\n",
       "      <td>1</td>\n",
       "    </tr>\n",
       "    <tr>\n",
       "      <th>1</th>\n",
       "      <td>0</td>\n",
       "      <td>1</td>\n",
       "      <td>1</td>\n",
       "      <td>0</td>\n",
       "      <td>0</td>\n",
       "    </tr>\n",
       "    <tr>\n",
       "      <th>2</th>\n",
       "      <td>0</td>\n",
       "      <td>1</td>\n",
       "      <td>0</td>\n",
       "      <td>0</td>\n",
       "      <td>0</td>\n",
       "    </tr>\n",
       "    <tr>\n",
       "      <th>3</th>\n",
       "      <td>0</td>\n",
       "      <td>1</td>\n",
       "      <td>0</td>\n",
       "      <td>1</td>\n",
       "      <td>0</td>\n",
       "    </tr>\n",
       "    <tr>\n",
       "      <th>4</th>\n",
       "      <td>0</td>\n",
       "      <td>1</td>\n",
       "      <td>0</td>\n",
       "      <td>1</td>\n",
       "      <td>0</td>\n",
       "    </tr>\n",
       "  </tbody>\n",
       "</table>\n",
       "</div>"
      ],
      "text/plain": [
       "   B1  B2  B3  B4  B5\n",
       "0   1   1   1   0   1\n",
       "1   0   1   1   0   0\n",
       "2   0   1   0   0   0\n",
       "3   0   1   0   1   0\n",
       "4   0   1   0   1   0"
      ]
     },
     "execution_count": 3,
     "metadata": {},
     "output_type": "execute_result"
    }
   ],
   "source": [
    "data.head()"
   ]
  },
  {
   "cell_type": "code",
   "execution_count": 4,
   "metadata": {},
   "outputs": [],
   "source": [
    "''' initializing some parameters '''\n",
    "observations = 200\n",
    "machines = 5\n",
    "\n",
    "machine_selected = []"
   ]
  },
  {
   "cell_type": "markdown",
   "metadata": {},
   "source": [
    "#### **We will now initialize 3 variables**\n",
    "\n",
    "- one to store the rewards or 1’s received by each Slot Machine/Bandit that was selected by the Thompson Sampling algorithm,\n",
    "- one to store the penalties or 0’s received by each Slot Machine/Bandit that was selected by the Thompson Sampling algorithm, and,\n",
    "- a variable to store the total number of rewards obtained using the"
   ]
  },
  {
   "cell_type": "code",
   "execution_count": 6,
   "metadata": {},
   "outputs": [],
   "source": [
    "rewards = [0] * machines\n",
    "penalties = [0] * machines\n",
    "total_reward = 0"
   ]
  },
  {
   "cell_type": "markdown",
   "metadata": {},
   "source": [
    "#### **Now let’s begin Thompson Sampling!**"
   ]
  },
  {
   "cell_type": "code",
   "execution_count": 7,
   "metadata": {},
   "outputs": [],
   "source": [
    "for n in range(0, observations):\n",
    "    bandit = 0\n",
    "    beta_max = 0\n",
    "    \n",
    "    for i in range(0, machines):\n",
    "        beta_d = random.betavariate(rewards[i] + 1, penalties[i] + 1)\n",
    "        if beta_d > beta_max:\n",
    "            beta_max = beta_d\n",
    "            bandit = i\n",
    "    machine_selected.append(bandit)\n",
    "    reward = data.values[n, bandit]\n",
    "    if reward == 1: rewards[bandit] = rewards[bandit] + 1\n",
    "    else:\n",
    "        penalties[bandit] = penalties[bandit] + 1\n",
    "        total_reward = total_reward + reward"
   ]
  },
  {
   "cell_type": "markdown",
   "metadata": {},
   "source": [
    "#### Now, let's visualize the results "
   ]
  },
  {
   "cell_type": "code",
   "execution_count": 8,
   "metadata": {},
   "outputs": [
    {
     "name": "stdout",
     "output_type": "stream",
     "text": [
      "\n",
      "\n",
      "Rewards By Machine =  [15, 14, 8, 29, 36]\n",
      "\n",
      "Total Rewards =  0\n",
      "\n",
      "Machine Selected At Each Round By Thompson Sampling : \n",
      " [3, 0, 1, 4, 1, 3, 1, 0, 1, 1, 1, 1, 0, 2, 2, 1, 0, 2, 2, 3, 0, 4, 4, 1, 0, 0, 1, 1, 4, 3, 1, 1, 4, 4, 4, 3, 1, 3, 1, 4, 1, 4, 4, 1, 1, 4, 4, 3, 2, 1, 1, 0, 1, 1, 4, 3, 1, 1, 3, 1, 2, 2, 1, 4, 4, 0, 1, 3, 2, 3, 4, 1, 3, 4, 4, 4, 4, 3, 4, 3, 3, 3, 3, 3, 4, 3, 3, 4, 4, 3, 3, 0, 0, 3, 3, 1, 3, 3, 3, 4, 4, 3, 0, 4, 4, 0, 3, 0, 4, 0, 3, 0, 4, 3, 0, 4, 2, 2, 4, 0, 3, 2, 3, 4, 0, 4, 1, 0, 4, 4, 4, 0, 4, 0, 0, 4, 0, 3, 4, 0, 4, 4, 2, 4, 0, 4, 4, 2, 4, 3, 0, 4, 4, 4, 4, 4, 3, 4, 3, 2, 2, 4, 2, 4, 3, 4, 4, 4, 3, 1, 4, 4, 4, 4, 1, 2, 3, 3, 4, 3, 2, 3, 3, 3, 3, 3, 0, 3, 2, 0, 4, 4, 3, 3, 3, 4, 4, 2, 4, 0]\n"
     ]
    }
   ],
   "source": [
    "print(\"\\n\\nRewards By Machine = \", rewards)\n",
    "print(\"\\nTotal Rewards = \", total_reward)\n",
    "print(\"\\nMachine Selected At Each Round By Thompson Sampling : \\n\", machine_selected)"
   ]
  },
  {
   "cell_type": "code",
   "execution_count": 11,
   "metadata": {},
   "outputs": [
    {
     "data": {
      "image/png": "[encoded data removed]",
      "text/plain": [
       "<Figure size 432x288 with 1 Axes>"
      ]
     },
     "metadata": {
      "needs_background": "light"
     },
     "output_type": "display_data"
    }
   ],
   "source": [
    "'''Rewards By Each Machine'''\n",
    "\n",
    "#Visualizing the rewards of each machine\n",
    "plt.bar(['B1','B2','B3','B4','B5'],rewards)\n",
    "plt.title('MABP')\n",
    "plt.xlabel('Bandits')\n",
    "plt.ylabel('Rewards By Each Machine')\n",
    "plt.show()"
   ]
  },
  {
   "cell_type": "code",
   "execution_count": 13,
   "metadata": {},
   "outputs": [
    {
     "name": "stdout",
     "output_type": "stream",
     "text": [
      "\n",
      "\n",
      "Number Of Times Each Machine Was Selected By The Thompson Sampling Algorithm : \n",
      " {3: 51, 0: 30, 1: 32, 4: 67, 2: 20}\n"
     ]
    }
   ],
   "source": [
    "'''Number Of Times Each Machine Was Selected'''\n",
    "\n",
    "print(\"\\n\\nNumber Of Times Each Machine Was Selected By The Thompson Sampling Algorithm : \\n\",\n",
    "      dict(Counter(machine_selected)))"
   ]
  },
  {
   "cell_type": "code",
   "execution_count": 15,
   "metadata": {},
   "outputs": [
    {
     "data": {
      "image/png": "[encoded data removed]",
      "text/plain": [
       "<Figure size 432x288 with 1 Axes>"
      ]
     },
     "metadata": {
      "needs_background": "light"
     },
     "output_type": "display_data"
    }
   ],
   "source": [
    "'''Visualizing the Number Of Times Each Machine Was Selected'''\n",
    "\n",
    "plt.hist(machine_selected)\n",
    "plt.title('Histogram of machines selected')\n",
    "plt.xlabel('Bandits')\n",
    "plt.xticks(range(0, 5))\n",
    "plt.ylabel('No. Of Times Each Bandit Was Selected')\n",
    "plt.show()"
   ]
  },
  {
   "cell_type": "code",
   "execution_count": null,
   "metadata": {},
   "outputs": [],
   "source": []
  }
 ],
 "metadata": {
  "kernelspec": {
   "display_name": "Python 3",
   "language": "python",
   "name": "python3"
  },
  "language_info": {
   "codemirror_mode": {
    "name": "ipython",
    "version": 3
   },
   "file_extension": ".py",
   "mimetype": "text/x-python",
   "name": "python",
   "nbconvert_exporter": "python",
   "pygments_lexer": "ipython3",
   "version": "3.8.8"
  }
 },
 "nbformat": 4,
 "nbformat_minor": 4
}
